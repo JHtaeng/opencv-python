{
 "cells": [
  {
   "cell_type": "markdown",
   "metadata": {},
   "source": [
    "https://note.nkmk.me/en/python-pillow-qrcode/"
   ]
  },
  {
   "cell_type": "code",
   "execution_count": 1,
   "metadata": {},
   "outputs": [],
   "source": [
    "import qrcode\n",
    "from PIL import Image\n",
    "from matplotlib import pyplot as plt"
   ]
  },
  {
   "cell_type": "code",
   "execution_count": 4,
   "metadata": {},
   "outputs": [
    {
     "name": "stdout",
     "output_type": "stream",
     "text": [
      "<class 'qrcode.image.pil.PilImage'>\n",
      "(290, 290)\n"
     ]
    }
   ],
   "source": [
    "img = qrcode.make('test text')\n",
    "\n",
    "print(type(img))\n",
    "print(img.size)\n",
    "\n",
    "img.save('qrcode_test.png')"
   ]
  },
  {
   "cell_type": "code",
   "execution_count": 5,
   "metadata": {},
   "outputs": [
    {
     "data": {
      "image/png": "[encoded data removed]",
      "text/plain": [
       "<Figure size 432x288 with 1 Axes>"
      ]
     },
     "metadata": {
      "needs_background": "light"
     },
     "output_type": "display_data"
    }
   ],
   "source": [
    "qr_image = Image.open('qrcode_test.png')\n",
    "plt.imshow(qr_image)\n",
    "plt.axis('off')\n",
    "plt.show()"
   ]
  },
  {
   "cell_type": "code",
   "execution_count": 10,
   "metadata": {},
   "outputs": [
    {
     "name": "stdout",
     "output_type": "stream",
     "text": [
      "<class 'qrcode.image.pil.PilImage'>\n",
      "(290, 290)\n"
     ]
    }
   ],
   "source": [
    "img = qrcode.make('이정현')\n",
    "\n",
    "print(type(img))\n",
    "print(img.size)\n",
    "\n",
    "img.save('qrcode_LJH.png')"
   ]
  },
  {
   "cell_type": "code",
   "execution_count": 11,
   "metadata": {},
   "outputs": [
    {
     "data": {
      "image/png": "[encoded data removed]",
      "text/plain": [
       "<Figure size 432x288 with 1 Axes>"
      ]
     },
     "metadata": {
      "needs_background": "light"
     },
     "output_type": "display_data"
    }
   ],
   "source": [
    "qr_image = Image.open('qrcode_LJH.png')\n",
    "plt.imshow(qr_image)\n",
    "plt.axis('off')\n",
    "plt.show()"
   ]
  },
  {
   "cell_type": "code",
   "execution_count": 138,
   "metadata": {},
   "outputs": [],
   "source": [
    "photo = Image.open('dan.jpg').resize((80,80))\n",
    "\n",
    "qr_jh = qrcode.QRCode(error_correction=qrcode.constants.ERROR_CORRECT_H)\n",
    "qr_jh.add_data('이정현')\n",
    "qr_jh.make()\n",
    "img_qr_jh = qr_jh.make_image().convert('RGB')\n",
    "\n",
    "pos = ((img_qr_jh.size[0] - photo.size[0]) // 2, (img_qr_jh.size[1] - photo.size[1]) // 2)\n",
    "\n",
    "img_qr_jh.paste(photo, pos)\n",
    "img_qr_jh.save('qrcode_JH_Image.png')"
   ]
  },
  {
   "cell_type": "code",
   "execution_count": 139,
   "metadata": {},
   "outputs": [
    {
     "data": {
      "image/png": "[encoded data removed]",
      "text/plain": [
       "<Figure size 432x288 with 1 Axes>"
      ]
     },
     "metadata": {
      "needs_background": "light"
     },
     "output_type": "display_data"
    }
   ],
   "source": [
    "qr_jh_image = Image.open('qrcode_JH_Image.png')\n",
    "plt.imshow(qr_jh_image)\n",
    "plt.axis('off')\n",
    "plt.show()"
   ]
  },
  {
   "cell_type": "code",
   "execution_count": null,
   "metadata": {},
   "outputs": [],
   "source": []
  }
 ],
 "metadata": {
  "kernelspec": {
   "display_name": "Python 3",
   "language": "python",
   "name": "python3"
  },
  "language_info": {
   "codemirror_mode": {
    "name": "ipython",
    "version": 3
   },
   "file_extension": ".py",
   "mimetype": "text/x-python",
   "name": "python",
   "nbconvert_exporter": "python",
   "pygments_lexer": "ipython3",
   "version": "3.7.6"
  },
  "toc": {
   "base_numbering": 1,
   "nav_menu": {},
   "number_sections": false,
   "sideBar": true,
   "skip_h1_title": false,
   "title_cell": "Table of Contents",
   "title_sidebar": "Contents",
   "toc_cell": false,
   "toc_position": {},
   "toc_section_display": true,
   "toc_window_display": false
  }
 },
 "nbformat": 4,
 "nbformat_minor": 4
}
