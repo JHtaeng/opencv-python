{
 "cells": [
  {
   "cell_type": "markdown",
   "metadata": {},
   "source": [
    "- https://m.blog.naver.com/PostView.nhn?blogId=chandong83&logNo=221124140487&proxyReferer=https:%2F%2Fwww.google.com%2F\n",
    "\n",
    "- https://webnautes.tistory.com/795\n",
    "- https://076923.github.io/posts/Python-opencv-35/"
   ]
  },
  {
   "cell_type": "code",
   "execution_count": 2,
   "metadata": {},
   "outputs": [],
   "source": [
    "import numpy as np\n",
    "import cv2\n",
    "from matplotlib import pyplot as plt"
   ]
  },
  {
   "cell_type": "markdown",
   "metadata": {},
   "source": [
    "- cv2.createTrackbar(trackbarName, windowName, value, count, onChange)\n",
    "- trackbarName : trackbar의 이름  (그리고 화면에 표시되는 이름)\n",
    "     - BoxW\n",
    "- windowName : 적용할 윈도우 이름\n",
    "     - Face\n",
    "- value : 초기 값\n",
    "- count : 최대 값 최소값은 무조건 0.\n",
    "- onChange : callback 함수 사용 안하면 null"
   ]
  },
  {
   "cell_type": "code",
   "execution_count": 4,
   "metadata": {},
   "outputs": [],
   "source": [
    "def saturated(value):\n",
    "    if value > 255:\n",
    "        value = 255\n",
    "    elif value < 0:\n",
    "        value = 0\n",
    "\n",
    "    return value\n",
    "\n",
    "\n",
    "def on_level_change(pos):\n",
    "    img[:] = saturated(pos * 16)\n",
    "    cv2.imshow('image', img)"
   ]
  },
  {
   "cell_type": "code",
   "execution_count": 11,
   "metadata": {},
   "outputs": [],
   "source": [
    "img = np.zeros((400, 400), np.uint8)\n",
    "\n",
    "# 트랙바 이름, 윈도우 이름\n",
    "cv2.namedWindow('image')\n",
    "cv2.createTrackbar('level', 'image', 0, 16, on_level_change)\n",
    "\n",
    "cv2.imshow('image', img)\n",
    "cv2.waitKey()\n",
    "cv2.destroyAllWindows()"
   ]
  },
  {
   "cell_type": "code",
   "execution_count": 10,
   "metadata": {},
   "outputs": [],
   "source": [
    "import cv2 as cv\n",
    "\n",
    "def nothing(x):\n",
    "    pass\n",
    "\n",
    "\n",
    "cv.namedWindow('airplane')\n",
    "\n",
    "cv.createTrackbar('low threshold', 'airplane', 0, 1000, nothing)\n",
    "cv.createTrackbar('high threshold', 'airplane', 0, 1000, nothing)\n",
    "\n",
    "cv.setTrackbarPos('low threshold', 'airplane', 50)\n",
    "cv.setTrackbarPos('high threshold', 'airplane', 150)\n",
    "\n",
    "img_gray = cv.imread('airplane.bmp')\n",
    "\n",
    "\n",
    "\n",
    "while (1):\n",
    "\n",
    "    low = cv.getTrackbarPos('low threshold', 'airplane')\n",
    "    high = cv.getTrackbarPos('high threshold', 'airplane')\n",
    "\n",
    "\n",
    "    img_airplane = cv.Canny(img_gray, low, high)\n",
    "\n",
    "    cv.imshow('airplane', img_airplane)\n",
    "\n",
    "    if cv.waitKey(1) == 27:\n",
    "        break\n",
    "\n",
    "\n",
    "cv.destroyAllWindows()"
   ]
  },
  {
   "cell_type": "code",
   "execution_count": 14,
   "metadata": {},
   "outputs": [],
   "source": [
    "def onChange(pos):\n",
    "    pass\n",
    "\n",
    "src = cv2.imread(\"airplane.bmp\")\n",
    "\n",
    "cv2.namedWindow(\"Trackbar Windows\")\n",
    "\n",
    "cv2.createTrackbar(\"threshold\", \"Trackbar Windows\", 0, 255, onChange)\n",
    "cv2.createTrackbar(\"maxValue\", \"Trackbar Windows\", 0, 255, lambda x : x)\n",
    "\n",
    "cv2.setTrackbarPos(\"threshold\", \"Trackbar Windows\", 127)\n",
    "cv2.setTrackbarPos(\"maxValue\", \"Trackbar Windows\", 255)\n",
    "\n",
    "while cv2.waitKey(1):\n",
    "\n",
    "    thresh = cv2.getTrackbarPos(\"threshold\", \"Trackbar Windows\")\n",
    "    maxval = cv2.getTrackbarPos(\"maxValue\", \"Trackbar Windows\")\n",
    "\n",
    "    _, binary = cv2.threshold(src, thresh, maxval, cv2.THRESH_BINARY)\n",
    "\n",
    "    cv2.imshow(\"Trackbar Windows\", binary)\n",
    "    \n",
    "    if cv.waitKey(1) == 27:\n",
    "        break\n",
    "\n",
    "cv2.destroyAllWindows()"
   ]
  },
  {
   "cell_type": "code",
   "execution_count": null,
   "metadata": {},
   "outputs": [],
   "source": []
  }
 ],
 "metadata": {
  "kernelspec": {
   "display_name": "Python 3",
   "language": "python",
   "name": "python3"
  },
  "language_info": {
   "codemirror_mode": {
    "name": "ipython",
    "version": 3
   },
   "file_extension": ".py",
   "mimetype": "text/x-python",
   "name": "python",
   "nbconvert_exporter": "python",
   "pygments_lexer": "ipython3",
   "version": "3.7.6"
  },
  "toc": {
   "base_numbering": 1,
   "nav_menu": {},
   "number_sections": false,
   "sideBar": true,
   "skip_h1_title": false,
   "title_cell": "Table of Contents",
   "title_sidebar": "Contents",
   "toc_cell": false,
   "toc_position": {},
   "toc_section_display": true,
   "toc_window_display": false
  }
 },
 "nbformat": 4,
 "nbformat_minor": 4
}
