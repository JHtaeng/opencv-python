{
 "cells": [
  {
   "cell_type": "code",
   "execution_count": 3,
   "metadata": {},
   "outputs": [],
   "source": [
    "import numpy as np\n",
    "import cv2\n",
    "\n",
    "def video_in():\n",
    "    cap = cv2.VideoCapture('stopwatch.avi')\n",
    "\n",
    "    if not cap.isOpened():\n",
    "        print(\"Video open failed!\")\n",
    "        return\n",
    "\n",
    "    print('Frame width:', int(cap.get(cv2.CAP_PROP_FRAME_WIDTH)))\n",
    "    print('Frame height:', int(cap.get(cv2.CAP_PROP_FRAME_HEIGHT)))\n",
    "    print('Frame count:', int(cap.get(cv2.CAP_PROP_FRAME_COUNT)))\n",
    "\n",
    "    fps = cap.get(cv2.CAP_PROP_FPS)\n",
    "    print('FPS:', fps)\n",
    "\n",
    "    delay = round(1000 / fps)\n",
    "\n",
    "    while True:\n",
    "        ret, frame = cap.read()\n",
    "\n",
    "        if not ret:\n",
    "            break\n",
    "\n",
    "        inversed = ~frame\n",
    "\n",
    "        cv2.imshow('frame', frame)\n",
    "        cv2.imshow('inversed', inversed)\n",
    "\n",
    "        if cv2.waitKey(delay) == 27: # ESC 키 누르면 창 닫기\n",
    "            break\n",
    "\n",
    "    cv2.destroyAllWindows()"
   ]
  },
  {
   "cell_type": "code",
   "execution_count": 4,
   "metadata": {},
   "outputs": [
    {
     "name": "stdout",
     "output_type": "stream",
     "text": [
      "Frame width: 640\n",
      "Frame height: 480\n",
      "Frame count: 378\n",
      "FPS: 30.0\n"
     ]
    }
   ],
   "source": [
    "video_in()"
   ]
  },
  {
   "cell_type": "code",
   "execution_count": 5,
   "metadata": {},
   "outputs": [],
   "source": [
    "def camera_in():\n",
    "    cap = cv2.VideoCapture(0)\n",
    "\n",
    "    if not cap.isOpened():\n",
    "        print(\"Camera open failed!\")\n",
    "        return\n",
    "\n",
    "    print('Frame width:', int(cap.get(cv2.CAP_PROP_FRAME_WIDTH)))\n",
    "    print('Frame height:', int(cap.get(cv2.CAP_PROP_FRAME_HEIGHT)))\n",
    "\n",
    "    while True:\n",
    "        ret, frame = cap.read()\n",
    "\n",
    "        if not ret:\n",
    "            break\n",
    "\n",
    "        inversed = ~frame\n",
    "\n",
    "        cv2.imshow('frame', frame)\n",
    "        cv2.imshow('inversed', inversed)\n",
    "\n",
    "        if cv2.waitKey(10) == 27:\n",
    "            break\n",
    "\n",
    "    cv2.destroyAllWindows()\n"
   ]
  },
  {
   "cell_type": "code",
   "execution_count": 6,
   "metadata": {},
   "outputs": [],
   "source": [
    "def camera_in_video_out():\n",
    "    cap = cv2.VideoCapture(0)\n",
    "\n",
    "    if not cap.isOpened():\n",
    "        print(\"Camera open failed!\")\n",
    "        return\n",
    "\n",
    "    w = round(cap.get(cv2.CAP_PROP_FRAME_WIDTH))\n",
    "    h = round(cap.get(cv2.CAP_PROP_FRAME_HEIGHT))\n",
    "    fps = cap.get(cv2.CAP_PROP_FPS)\n",
    "\n",
    "    fourcc = cv2.VideoWriter_fourcc(*'DIVX') # *'DIVX' == 'D', 'I', 'V', 'X'\n",
    "    delay = round(1000 / fps)\n",
    "\n",
    "    outputVideo = cv2.VideoWriter('output.avi', fourcc, fps, (w, h))\n",
    "\n",
    "    if not outputVideo.isOpened():\n",
    "        print('File open failed!')\n",
    "        return\n",
    "\n",
    "    while True:\n",
    "        ret, frame = cap.read()\n",
    "\n",
    "        if not ret:\n",
    "            break\n",
    "\n",
    "        inversed = ~frame\n",
    "\n",
    "        outputVideo.write(inversed)\n",
    "\n",
    "        cv2.imshow('frame', frame)\n",
    "        cv2.imshow('inversed', inversed)\n",
    "\n",
    "        if cv2.waitKey(delay) == 27: # ESC 키\n",
    "            break\n",
    "\n",
    "    cv2.destroyAllWindows()"
   ]
  },
  {
   "cell_type": "code",
   "execution_count": null,
   "metadata": {},
   "outputs": [],
   "source": [
    "if __name__ == '__main__':\n",
    "    camera_in()\n",
    "    camera_in_video_out()"
   ]
  }
 ],
 "metadata": {
  "kernelspec": {
   "display_name": "Python 3",
   "language": "python",
   "name": "python3"
  },
  "language_info": {
   "codemirror_mode": {
    "name": "ipython",
    "version": 3
   },
   "file_extension": ".py",
   "mimetype": "text/x-python",
   "name": "python",
   "nbconvert_exporter": "python",
   "pygments_lexer": "ipython3",
   "version": "3.7.6"
  },
  "toc": {
   "base_numbering": 1,
   "nav_menu": {},
   "number_sections": false,
   "sideBar": true,
   "skip_h1_title": false,
   "title_cell": "Table of Contents",
   "title_sidebar": "Contents",
   "toc_cell": false,
   "toc_position": {},
   "toc_section_display": true,
   "toc_window_display": false
  }
 },
 "nbformat": 4,
 "nbformat_minor": 4
}
