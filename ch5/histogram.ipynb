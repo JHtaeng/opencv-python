{
 "cells": [
  {
   "cell_type": "code",
   "execution_count": 1,
   "metadata": {},
   "outputs": [],
   "source": [
    "import numpy as np\n",
    "import cv2\n",
    "from matplotlib import pyplot as plt"
   ]
  },
  {
   "cell_type": "code",
   "execution_count": 2,
   "metadata": {},
   "outputs": [],
   "source": [
    "def calcGrayHist(img):\n",
    "    channels = [0]\n",
    "    histSize = [256]\n",
    "    histRange = [0, 256]\n",
    "\n",
    "    hist = cv2.calcHist([img], channels, None, histSize, histRange)\n",
    "\n",
    "    return hist"
   ]
  },
  {
   "cell_type": "code",
   "execution_count": 3,
   "metadata": {},
   "outputs": [],
   "source": [
    "def getGrayHistImage(hist):\n",
    "    histMax = np.max(hist)\n",
    "\n",
    "    imgHist = np.full((100, 256), 255, dtype=np.uint8)\n",
    "    for x in range(256):\n",
    "        pt1 = (x, 100)\n",
    "        pt2 = (x, 100 - int(hist[x, 0] * 100 / histMax))\n",
    "        cv2.line(imgHist, pt1, pt2, 0)\n",
    "\n",
    "    return imgHist"
   ]
  },
  {
   "cell_type": "code",
   "execution_count": 10,
   "metadata": {},
   "outputs": [],
   "source": [
    "def histgoram_stretching():\n",
    "    src = cv2.imread('hawkes.bmp', cv2.IMREAD_GRAYSCALE)\n",
    "\n",
    "    if src is None:\n",
    "        print('Image load failed!')\n",
    "        return\n",
    "\n",
    "    gmin = float(np.min(src))\n",
    "    gmax = float(np.max(src))\n",
    "\n",
    "    dst = ((src - gmin) * 255. / (gmax - gmin)).astype(np.uint8)\n",
    "\n",
    "    cv2.imshow('src', src)\n",
    "    cv2.imshow('srcHist', getGrayHistImage(calcGrayHist(src)))\n",
    "\n",
    "    cv2.imshow('dst', dst)\n",
    "    cv2.imshow('dstHist', getGrayHistImage(calcGrayHist(dst)))\n",
    "\n",
    "    cv2.waitKey()\n",
    "    cv2.destroyAllWindows()"
   ]
  },
  {
   "cell_type": "code",
   "execution_count": 11,
   "metadata": {},
   "outputs": [],
   "source": [
    "histgoram_stretching()"
   ]
  },
  {
   "cell_type": "code",
   "execution_count": 5,
   "metadata": {},
   "outputs": [],
   "source": [
    "def histgoram_equalization():\n",
    "    src = cv2.imread('hawkes.bmp', cv2.IMREAD_GRAYSCALE)\n",
    "\n",
    "    if src is None:\n",
    "        print('Image load failed!')\n",
    "        return\n",
    "\n",
    "    dst = cv2.equalizeHist(src)\n",
    "\n",
    "    cv2.imshow('src', src)\n",
    "    cv2.imshow('srcHist', getGrayHistImage(calcGrayHist(src)))\n",
    "\n",
    "    cv2.imshow('dst', dst)\n",
    "    cv2.imshow('dstHist', getGrayHistImage(calcGrayHist(dst)))\n",
    "\n",
    "    cv2.waitKey()\n",
    "    cv2.destroyAllWindows()"
   ]
  },
  {
   "cell_type": "code",
   "execution_count": 6,
   "metadata": {},
   "outputs": [],
   "source": [
    "if __name__ == '__main__':\n",
    "    histgoram_stretching()\n",
    "    histgoram_equalization()"
   ]
  },
  {
   "cell_type": "code",
   "execution_count": null,
   "metadata": {},
   "outputs": [],
   "source": []
  }
 ],
 "metadata": {
  "kernelspec": {
   "display_name": "Python 3",
   "language": "python",
   "name": "python3"
  },
  "language_info": {
   "codemirror_mode": {
    "name": "ipython",
    "version": 3
   },
   "file_extension": ".py",
   "mimetype": "text/x-python",
   "name": "python",
   "nbconvert_exporter": "python",
   "pygments_lexer": "ipython3",
   "version": "3.7.6"
  },
  "toc": {
   "base_numbering": 1,
   "nav_menu": {},
   "number_sections": false,
   "sideBar": true,
   "skip_h1_title": false,
   "title_cell": "Table of Contents",
   "title_sidebar": "Contents",
   "toc_cell": false,
   "toc_position": {},
   "toc_section_display": true,
   "toc_window_display": false
  }
 },
 "nbformat": 4,
 "nbformat_minor": 4
}
